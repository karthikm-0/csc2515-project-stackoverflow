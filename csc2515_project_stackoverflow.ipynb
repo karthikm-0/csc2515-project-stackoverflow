{
  "nbformat": 4,
  "nbformat_minor": 0,
  "metadata": {
    "colab": {
      "name": "csc2515-project-stackoverflow.ipynb",
      "provenance": [],
      "collapsed_sections": [],
      "include_colab_link": true
    },
    "kernelspec": {
      "display_name": "Python 3",
      "name": "python3"
    }
  },
  "cells": [
    {
      "cell_type": "markdown",
      "metadata": {
        "id": "view-in-github",
        "colab_type": "text"
      },
      "source": [
        "<a href=\"https://colab.research.google.com/github/karthikm-0/csc2515-project-stackoverflow/blob/main/csc2515_project_stackoverflow.ipynb\" target=\"_parent\"><img src=\"https://colab.research.google.com/assets/colab-badge.svg\" alt=\"Open In Colab\"/></a>"
      ]
    },
    {
      "cell_type": "code",
      "metadata": {
        "colab": {
          "base_uri": "https://localhost:8080/"
        },
        "id": "Xc_iCfJ0gUG4",
        "outputId": "a5b0fc4c-ab19-4178-b7e0-d6d0f9d22697"
      },
      "source": [
        "from google.colab import drive\n",
        "drive.mount('/content/drive')\n",
        "projec_folder = \"./drive/My Drive/csc2515-project/\""
      ],
      "execution_count": 47,
      "outputs": [
        {
          "output_type": "stream",
          "text": [
            "Drive already mounted at /content/drive; to attempt to forcibly remount, call drive.mount(\"/content/drive\", force_remount=True).\n"
          ],
          "name": "stdout"
        }
      ]
    },
    {
      "cell_type": "markdown",
      "metadata": {
        "id": "pOT5J_i0bLbz"
      },
      "source": [
        "**Load and Preprocess Data**"
      ]
    },
    {
      "cell_type": "code",
      "metadata": {
        "id": "Z_z_Tf3wgmmJ"
      },
      "source": [
        "import pandas as pd\n",
        "import os\n",
        "import numpy as np\n",
        "\n",
        "questions = pd.read_csv('/content/drive/My Drive/csc2515-project/Questions.csv',  encoding='Latin-1')\n",
        "questions.head(5)\n",
        "answers = pd.read_csv('/content/drive/My Drive/csc2515-project/Answers.csv',  encoding='Latin-1')\n",
        "answers.head(5)"
      ],
      "execution_count": null,
      "outputs": []
    },
    {
      "cell_type": "code",
      "metadata": {
        "colab": {
          "base_uri": "https://localhost:8080/",
          "height": 204
        },
        "id": "AjHLFKug2YeK",
        "outputId": "076c603b-6f3a-4a4d-d768-5f2602a5ccb1"
      },
      "source": [
        "questions.columns=[\"QId\", \"QAskerId\", \"QCreationDate\", \"QClosedDate\", \"QScore\", \"QTitle\", \"QBody\"]\n",
        "questions.head(5)"
      ],
      "execution_count": null,
      "outputs": [
        {
          "output_type": "execute_result",
          "data": {
            "text/html": [
              "<div>\n",
              "<style scoped>\n",
              "    .dataframe tbody tr th:only-of-type {\n",
              "        vertical-align: middle;\n",
              "    }\n",
              "\n",
              "    .dataframe tbody tr th {\n",
              "        vertical-align: top;\n",
              "    }\n",
              "\n",
              "    .dataframe thead th {\n",
              "        text-align: right;\n",
              "    }\n",
              "</style>\n",
              "<table border=\"1\" class=\"dataframe\">\n",
              "  <thead>\n",
              "    <tr style=\"text-align: right;\">\n",
              "      <th></th>\n",
              "      <th>QId</th>\n",
              "      <th>QAskerId</th>\n",
              "      <th>QCreationDate</th>\n",
              "      <th>QClosedDate</th>\n",
              "      <th>QScore</th>\n",
              "      <th>QTitle</th>\n",
              "      <th>QBody</th>\n",
              "    </tr>\n",
              "  </thead>\n",
              "  <tbody>\n",
              "    <tr>\n",
              "      <th>0</th>\n",
              "      <td>80</td>\n",
              "      <td>26.0</td>\n",
              "      <td>2008-08-01T13:57:07Z</td>\n",
              "      <td>NaN</td>\n",
              "      <td>26</td>\n",
              "      <td>SQLStatement.execute() - multiple queries in o...</td>\n",
              "      <td>&lt;p&gt;I've written a database generation script i...</td>\n",
              "    </tr>\n",
              "    <tr>\n",
              "      <th>1</th>\n",
              "      <td>90</td>\n",
              "      <td>58.0</td>\n",
              "      <td>2008-08-01T14:41:24Z</td>\n",
              "      <td>2012-12-26T03:45:49Z</td>\n",
              "      <td>144</td>\n",
              "      <td>Good branching and merging tutorials for Torto...</td>\n",
              "      <td>&lt;p&gt;Are there any really good tutorials explain...</td>\n",
              "    </tr>\n",
              "    <tr>\n",
              "      <th>2</th>\n",
              "      <td>120</td>\n",
              "      <td>83.0</td>\n",
              "      <td>2008-08-01T15:50:08Z</td>\n",
              "      <td>NaN</td>\n",
              "      <td>21</td>\n",
              "      <td>ASP.NET Site Maps</td>\n",
              "      <td>&lt;p&gt;Has anyone got experience creating &lt;strong&gt;...</td>\n",
              "    </tr>\n",
              "    <tr>\n",
              "      <th>3</th>\n",
              "      <td>180</td>\n",
              "      <td>2089740.0</td>\n",
              "      <td>2008-08-01T18:42:19Z</td>\n",
              "      <td>NaN</td>\n",
              "      <td>53</td>\n",
              "      <td>Function for creating color wheels</td>\n",
              "      <td>&lt;p&gt;This is something I've pseudo-solved many t...</td>\n",
              "    </tr>\n",
              "    <tr>\n",
              "      <th>4</th>\n",
              "      <td>260</td>\n",
              "      <td>91.0</td>\n",
              "      <td>2008-08-01T23:22:08Z</td>\n",
              "      <td>NaN</td>\n",
              "      <td>49</td>\n",
              "      <td>Adding scripting functionality to .NET applica...</td>\n",
              "      <td>&lt;p&gt;I have a little game written in C#. It uses...</td>\n",
              "    </tr>\n",
              "  </tbody>\n",
              "</table>\n",
              "</div>"
            ],
            "text/plain": [
              "   QId  ...                                              QBody\n",
              "0   80  ...  <p>I've written a database generation script i...\n",
              "1   90  ...  <p>Are there any really good tutorials explain...\n",
              "2  120  ...  <p>Has anyone got experience creating <strong>...\n",
              "3  180  ...  <p>This is something I've pseudo-solved many t...\n",
              "4  260  ...  <p>I have a little game written in C#. It uses...\n",
              "\n",
              "[5 rows x 7 columns]"
            ]
          },
          "metadata": {
            "tags": []
          },
          "execution_count": 8
        }
      ]
    },
    {
      "cell_type": "code",
      "metadata": {
        "colab": {
          "base_uri": "https://localhost:8080/"
        },
        "id": "oayPlC8z_Loc",
        "outputId": "c0714872-0eb3-4f97-d1c5-2e2d926ef7b8"
      },
      "source": [
        "#Count number of answers for questions with answers\n",
        "counts = answers['ParentId'].value_counts()\n",
        "#Perform an inner join on question id between questions and answers for questions with 7 or more answers\n",
        "questions_answers = pd.merge(questions,answers[answers['ParentId'].isin(counts.index[counts >=7])], left_on=['QId'], right_on=['ParentId'])\n",
        "samples=questions_answers.shape[0]\n",
        "print(\"Total samples numbers with 7+ answers:\",samples)"
      ],
      "execution_count": null,
      "outputs": [
        {
          "output_type": "stream",
          "text": [
            "Total samples numbers with 7+ answers: 120435\n"
          ],
          "name": "stdout"
        }
      ]
    },
    {
      "cell_type": "code",
      "metadata": {
        "id": "9DJN_JILSgTb"
      },
      "source": [
        "#Generate label for each answer, with True indicating the best answer\n",
        "labels = questions_answers.groupby(['QId'])['Score'].transform(max) == questions_answers['Score']"
      ],
      "execution_count": null,
      "outputs": []
    },
    {
      "cell_type": "markdown",
      "metadata": {
        "id": "e_QP-eVomOBB"
      },
      "source": [
        "**MING FEATURE SELECTION**"
      ]
    },
    {
      "cell_type": "code",
      "metadata": {
        "id": "RGKGfnap_dc_",
        "colab": {
          "base_uri": "https://localhost:8080/"
        },
        "outputId": "667cca13-b962-45da-bc42-c8d8c413fa91"
      },
      "source": [
        "#Find number of answers before and after\n",
        "before=np.zeros((samples,1))\n",
        "after=np.zeros((samples,1))\n",
        "#Answers are already sorted by ID/date\n",
        "before=questions_answers.groupby(['QId']).cumcount()\n",
        "after=(questions_answers[::-1].groupby(['QId']).cumcount())[::-1]\n",
        "print(before)\n",
        "print(after)"
      ],
      "execution_count": null,
      "outputs": [
        {
          "output_type": "stream",
          "text": [
            "0         0\n",
            "1         1\n",
            "2         2\n",
            "3         3\n",
            "4         4\n",
            "         ..\n",
            "120430    2\n",
            "120431    3\n",
            "120432    4\n",
            "120433    5\n",
            "120434    6\n",
            "Length: 120435, dtype: int64\n",
            "0         8\n",
            "1         7\n",
            "2         6\n",
            "3         5\n",
            "4         4\n",
            "         ..\n",
            "120430    4\n",
            "120431    3\n",
            "120432    2\n",
            "120433    1\n",
            "120434    0\n",
            "Length: 120435, dtype: int64\n"
          ],
          "name": "stdout"
        }
      ]
    },
    {
      "cell_type": "code",
      "metadata": {
        "id": "tN88Tzr4A_vd"
      },
      "source": [
        "#Cosine similarity with question\n",
        "from sklearn.feature_extraction.text import CountVectorizer\n",
        "from sklearn.metrics.pairwise import cosine_similarity\n",
        "count_vectorizer=CountVectorizer()\n",
        "for i in range(samples):\n",
        "  count_matrix=count_vectorizer.fit_transform([preprocessString(questions_answers['QBody'][i]),preprocessString(questions_answers['Body'][i])])\n",
        "  cs[i]=cosine_similarity(count_matrix[0],count_matrix[1])\n",
        "print(cs)"
      ],
      "execution_count": null,
      "outputs": []
    },
    {
      "cell_type": "code",
      "metadata": {
        "id": "eVO6weOXI6xS"
      },
      "source": [
        "#Average cosine similarity with other\n"
      ],
      "execution_count": null,
      "outputs": []
    },
    {
      "cell_type": "markdown",
      "metadata": {
        "id": "RyvqgSPNleJo"
      },
      "source": [
        "**KARTHIK FEATURE SELECTION**"
      ]
    },
    {
      "cell_type": "code",
      "metadata": {
        "colab": {
          "base_uri": "https://localhost:8080/"
        },
        "id": "-0YFx64r4Jg1",
        "outputId": "ff763f98-bc31-44ca-ba93-3f6c488d9026"
      },
      "source": [
        "# User history\n",
        "# Cumulative scores/answers/questions\n",
        "user_answer_ids = questions_answers.groupby('OwnerUserId')\n",
        "print(user_answer_ids)\n",
        "user_cumulative_score = questions_answers.groupby('OwnerUserId', sort=False).agg({'Score': 'sum'})\n",
        "user_cumulative_answers = questions_answers.groupby('OwnerUserId', sort=False).size()\n",
        "user_cumulative_questions = questions_answers.groupby('QAskerId', sort=False).size()\n",
        "\n",
        "#print(user_cumulative_answers)\n",
        "user_stats = pd.DataFrame(user_cumulative_score)\n",
        "user_stats['Answers'] = user_cumulative_answers\n",
        "\n",
        "from datetime import datetime as dt\n",
        "import time\n",
        "\n",
        "def toYearFraction(date):\n",
        "    \n",
        "    def sinceEpoch(date): # returns seconds since epoch\n",
        "        return time.mktime(date.timetuple())\n",
        "    s = sinceEpoch\n",
        "\n",
        "    year = date.year\n",
        "    startOfThisYear = dt(year=year, month=1, day=1)\n",
        "    startOfNextYear = dt(year=year+1, month=1, day=1)\n",
        "\n",
        "    yearElapsed = s(date) - s(startOfThisYear)\n",
        "    yearDuration = s(startOfNextYear) - s(startOfThisYear)\n",
        "    fraction = yearElapsed/yearDuration\n",
        "\n",
        "    return date.year + fraction\n",
        "\n",
        "# Account age\n",
        "format = \"%Y-%m-%dT%H:%M:%SZ\"\n",
        "\n",
        "today = dt.today()\n",
        "today = toYearFraction(today)\n",
        "print(today)\n",
        "\n",
        "creation_date = questions_answers['CreationDate'].astype(str)\n",
        "creation_date = pd.to_datetime(creation_date)\n",
        "creation_date = creation_date.apply(toYearFraction)\n",
        "\n",
        "creation_date = today - creation_date\n",
        "print(creation_date)\n",
        "\n",
        "'''print(user_cumulative_score)\n",
        "print(user_cumulative_answers)\n",
        "print(user_cumulative_questions)'''"
      ],
      "execution_count": null,
      "outputs": [
        {
          "output_type": "stream",
          "text": [
            "<pandas.core.groupby.generic.DataFrameGroupBy object at 0x7f9e97b52080>\n",
            "2020.9281965315727\n",
            "0         12.343997\n",
            "1         12.341417\n",
            "2         12.341327\n",
            "3         12.229312\n",
            "4         12.213258\n",
            "            ...    \n",
            "120430     4.128783\n",
            "120431     4.128777\n",
            "120432     4.128751\n",
            "120433     4.128741\n",
            "120434     4.128740\n",
            "Name: CreationDate, Length: 120435, dtype: float64\n"
          ],
          "name": "stdout"
        }
      ]
    },
    {
      "cell_type": "code",
      "metadata": {
        "id": "KqDI6RvDq0su"
      },
      "source": [
        "# Average user score (for their answers)\n",
        "def find_user_average_score(scores, num_answers):\n",
        "  return lambda row: 0.0 if row[num_answers] == 0 else float(row[scores]/row[num_answers])\n",
        "\n",
        "user_stats.loc[:, 'Average_Score'] = user_stats.apply(find_user_average_score('Score', 'Answers'), axis=1)      "
      ],
      "execution_count": null,
      "outputs": []
    },
    {
      "cell_type": "code",
      "metadata": {
        "colab": {
          "base_uri": "https://localhost:8080/"
        },
        "id": "_2hVtZIKrSOA",
        "outputId": "c2c5370c-49a1-4779-f164-93d505fa1bc6"
      },
      "source": [
        "print(user_stats['Score'])\n",
        "print(type(user_stats))"
      ],
      "execution_count": null,
      "outputs": [
        {
          "output_type": "stream",
          "text": [
            "OwnerUserId\n",
            "50.0          111\n",
            "86.0           14\n",
            "157.0        1685\n",
            "5845.0         34\n",
            "16632.0       165\n",
            "             ... \n",
            "5820675.0       3\n",
            "7020477.0       0\n",
            "5547818.0       0\n",
            "4989385.0       0\n",
            "649776.0        0\n",
            "Name: Score, Length: 69775, dtype: int64\n",
            "<class 'pandas.core.frame.DataFrame'>\n"
          ],
          "name": "stdout"
        }
      ]
    },
    {
      "cell_type": "code",
      "metadata": {
        "id": "heyG49w0uKmm",
        "colab": {
          "base_uri": "https://localhost:8080/"
        },
        "outputId": "c358fe1f-e994-4362-cdea-f3998c15e41d"
      },
      "source": [
        "questions_answers.groupby(['OwnerUserId', 'QAskerId']).ngroups"
      ],
      "execution_count": null,
      "outputs": [
        {
          "output_type": "execute_result",
          "data": {
            "text/plain": [
              "113205"
            ]
          },
          "metadata": {
            "tags": []
          },
          "execution_count": 41
        }
      ]
    },
    {
      "cell_type": "code",
      "metadata": {
        "id": "GIb1HlwMIj-n"
      },
      "source": [
        "questions_answers.to_csv()"
      ],
      "execution_count": null,
      "outputs": []
    },
    {
      "cell_type": "markdown",
      "metadata": {
        "id": "MUjVUI1q76wl"
      },
      "source": [
        "**FUNCTIONS**"
      ]
    },
    {
      "cell_type": "code",
      "metadata": {
        "id": "3VQQsQ0l3LOx"
      },
      "source": [
        "import re\n",
        "from bs4 import BeautifulSoup\n",
        "import string\n",
        "#Remove urls, html tags, code, and punctuation from strings\n",
        "def preprocessString(text):\n",
        "  text=text.lower()\n",
        "  #Remove HTML Tags and Code\n",
        "  soup=BeautifulSoup(text)\n",
        "  for code in soup.find_all('code'):\n",
        "    code.extract()\n",
        "  text=soup.get_text()\n",
        "  #Remove URLS\n",
        "  text=re.sub('http://\\S+|https://\\S+', '', text)\n",
        "  #Remove punctuation\n",
        "  text=text.translate(str.maketrans('', '', string.punctuation))\n",
        "  #Join lines together\n",
        "  text=\" \".join(line.strip() for line in text.splitlines())\n",
        "  return text.strip()"
      ],
      "execution_count": null,
      "outputs": []
    }
  ]
}